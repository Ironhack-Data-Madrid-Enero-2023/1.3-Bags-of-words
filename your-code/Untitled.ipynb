{
 "cells": [
  {
   "cell_type": "code",
   "execution_count": 1,
   "id": "36827838",
   "metadata": {},
   "outputs": [
    {
     "data": {
      "text/plain": [
       "type"
      ]
     },
     "execution_count": 1,
     "metadata": {},
     "output_type": "execute_result"
    }
   ],
   "source": [
    "type(range)"
   ]
  },
  {
   "cell_type": "code",
   "execution_count": 2,
   "id": "5728cfd7",
   "metadata": {},
   "outputs": [
    {
     "data": {
      "text/plain": [
       "builtin_function_or_method"
      ]
     },
     "execution_count": 2,
     "metadata": {},
     "output_type": "execute_result"
    }
   ],
   "source": [
    "type(len)\n"
   ]
  },
  {
   "cell_type": "code",
   "execution_count": null,
   "id": "46994a4d",
   "metadata": {},
   "outputs": [],
   "source": [
    "a = "
   ]
  },
  {
   "cell_type": "code",
   "execution_count": null,
   "id": "5f94c4a9",
   "metadata": {},
   "outputs": [],
   "source": [
    "docs = [r\"C:\\Users\\molus\\IRONHACK\\Labs\\1.3-Bags-of-words\\your-code\\doc1.txt\", r\"C:\\Users\\molus\\IRONHACK\\Labs\\1.3-Bags-of-words\\your-code\\doc2.txt\", r\"C:\\Users\\molus\\IRONHACK\\Labs\\1.3-Bags-of-words\\your-code\\doc3.txt\"]"
   ]
  }
 ],
 "metadata": {
  "kernelspec": {
   "display_name": "Python 3 (ipykernel)",
   "language": "python",
   "name": "python3"
  },
  "language_info": {
   "codemirror_mode": {
    "name": "ipython",
    "version": 3
   },
   "file_extension": ".py",
   "mimetype": "text/x-python",
   "name": "python",
   "nbconvert_exporter": "python",
   "pygments_lexer": "ipython3",
   "version": "3.9.13"
  }
 },
 "nbformat": 4,
 "nbformat_minor": 5
}
